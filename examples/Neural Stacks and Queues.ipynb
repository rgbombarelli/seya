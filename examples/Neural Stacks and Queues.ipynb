{
 "cells": [
  {
   "cell_type": "markdown",
   "metadata": {},
   "source": [
    "# Learning to Transduce with Unbounded Memory\n",
    "\n",
    "WIP\n",
    "\n",
    "\n",
    "###References\n",
    "http://arxiv.org/pdf/1506.02516.pdf\n",
    "\n",
    "\n",
    "# Copy Problem"
   ]
  },
  {
   "cell_type": "markdown",
   "metadata": {},
   "source": [
    "Working with keras 0.3.2 commit  654404c2ed8db47a5361a3bff9126a16507c9c4c"
   ]
  },
  {
   "cell_type": "code",
   "execution_count": 1,
   "metadata": {
    "collapsed": false
   },
   "outputs": [
    {
     "name": "stderr",
     "output_type": "stream",
     "text": [
      "Using gpu device 0: GeForce GTX 660 (CNMeM is disabled, CuDNN not available)\n",
      "Using Theano backend.\n",
      "/usr/local/lib/python2.7/dist-packages/theano/tensor/signal/downsample.py:5: UserWarning: downsample module has been moved to the pool module.\n",
      "  warnings.warn(\"downsample module has been moved to the pool module.\")\n"
     ]
    }
   ],
   "source": [
    "#%matplotlib inline\n",
    "from __future__ import absolute_import\n",
    "from __future__ import print_function\n",
    "import logging\n",
    "import numpy as np\n",
    "np.random.seed(124)\n",
    "import matplotlib.pyplot as plt\n",
    "import cPickle\n",
    "\n",
    "from theano import tensor, function\n",
    "import theano\n",
    "\n",
    "from keras.datasets import mnist#theano.config.mode=\"FAST_COMPILE\"\n",
    "\n",
    "from keras.models import Graph, Sequential\n",
    "from keras.layers.core import TimeDistributedDense, Dropout, Activation, Flatten, Masking\n",
    "from keras.layers.recurrent import LSTM\n",
    "from keras.utils import np_utils, generic_utils\n",
    "from keras.optimizers import Adam, SGD\n",
    "from keras import backend as K\n",
    "\n",
    "from seya.layers.ntm import NeuralTuringMachine as NTM\n",
    "from seya.layers.stack import Stack\n",
    "\n",
    "\n",
    "#from seya.models import Sequential  # this is just good old Sequential, from before TensorFlow support\n",
    "\n",
    "#from IPython import display"
   ]
  },
  {
   "cell_type": "code",
   "execution_count": 2,
   "metadata": {
    "collapsed": true
   },
   "outputs": [],
   "source": [
    "batch_size = 100\n",
    "\n",
    "h_dim = 128\n",
    "n_slots = 50\n",
    "m_length = 20\n",
    "input_dim = 8\n",
    "lr = 1e-3\n",
    "clipnorm = 10\n",
    "rnn_size= 128"
   ]
  },
  {
   "cell_type": "code",
   "execution_count": 3,
   "metadata": {
    "collapsed": false
   },
   "outputs": [],
   "source": [
    "# Neural Turing Machine\n",
    "\n",
    "def load_model(model):\n",
    "    \n",
    "    if model == \"NTM\":\n",
    "        h_dim=64\n",
    "        ntm = NTM(h_dim, n_slots=n_slots, m_length=m_length, shift_range=3,\n",
    "          inner_rnn='lstm', return_sequences=True, input_dim=input_dim)\n",
    "    \n",
    "    if model == \"QUEUE\":\n",
    "        h_dim=128\n",
    "        ntm = Stack(h_dim, n_slots=n_slots, m_length=m_length,\n",
    "            inner_rnn='lstm', rnn_size=rnn_size,return_sequences=True, input_dim=input_dim,stack=False)\n",
    "        \n",
    "    if model == \"STACK\":\n",
    "        h_dim = 128\n",
    "        ntm = Stack(h_dim, n_slots=n_slots, m_length=m_length,\n",
    "                  inner_rnn='lstm', rnn_size=rnn_size,return_sequences=True, input_dim=input_dim,stack=True)\n",
    "\n",
    "    if model == \"LSTM\":\n",
    "        h_dim=256\n",
    "        ntm = LSTM(h_dim,return_sequences = True,input_dim = input_dim)\n",
    "        \n",
    "    model = Sequential()\n",
    "    # model.add(Masking(input_shape=(None, input_dim)))\n",
    "    model.add(ntm)\n",
    "    model.add(TimeDistributedDense(input_dim))\n",
    "    model.add(Activation('sigmoid'))\n",
    "    \n",
    "    sgd = Adam(lr=lr, clipnorm=clipnorm)\n",
    "    model.compile(loss='binary_crossentropy', optimizer=sgd, sample_weight_mode=\"temporal\")\n",
    "    \n",
    "    return model"
   ]
  },
  {
   "cell_type": "markdown",
   "metadata": {},
   "source": [
    "# Dataset"
   ]
  },
  {
   "cell_type": "code",
   "execution_count": 4,
   "metadata": {
    "collapsed": false
   },
   "outputs": [],
   "source": [
    "def get_sample(batch_size=128, n_bits=8, max_size=20, min_size=1):\n",
    "    # generate samples with random length\n",
    "    inp = np.zeros((batch_size, 2*max_size-1, n_bits))\n",
    "    out = np.zeros((batch_size, 2*max_size-1, n_bits))\n",
    "    sw = np.zeros((batch_size, 2*max_size-1, 1))\n",
    "    for i in range(batch_size):\n",
    "        t = np.random.randint(low=min_size, high=max_size)\n",
    "        x = np.random.uniform(size=(t, n_bits)) > .5\n",
    "        for j,f in enumerate(x.sum(axis=-1)): # remove fake flags\n",
    "            if f>=n_bits:\n",
    "                x[j, :] = 0.\n",
    "        del_flag = np.ones((1, n_bits))\n",
    "        inp[i, :t+1] = np.concatenate([x, del_flag], axis=0)\n",
    "        out[i, t:(2*t)] = x\n",
    "        sw[i, t:(2*t)] = 1\n",
    "        #sw[i, t:(2*t)+2] = 1\n",
    "    return inp, out, sw"
   ]
  },
  {
   "cell_type": "code",
   "execution_count": 5,
   "metadata": {
    "collapsed": false
   },
   "outputs": [],
   "source": [
    "def show_pattern(inp, out, sw, file_name='pattern2.png'):\n",
    "    plt.figure(figsize=(10, 10))\n",
    "    plt.subplot(131)\n",
    "    plt.imshow(inp>.5)\n",
    "    plt.subplot(132)\n",
    "    plt.imshow(out>.5)\n",
    "    plt.subplot(133)\n",
    "    plt.imshow(sw[:, :1]>.5)\n",
    "    plt.savefig(file_name)\n",
    "    plt.close()\n",
    "\n",
    "inp, out, sw = get_sample()\n",
    "show_pattern(inp[0], out[0], sw[0])"
   ]
  },
  {
   "cell_type": "code",
   "execution_count": 6,
   "metadata": {
    "collapsed": false
   },
   "outputs": [
    {
     "data": {
      "text/plain": [
       "<matplotlib.image.AxesImage at 0x7f6697c63a50>"
      ]
     },
     "execution_count": 6,
     "metadata": {},
     "output_type": "execute_result"
    },
    {
     "data": {
      "image/png": "[encoded data removed]",
      "text/plain": [
       "<matplotlib.figure.Figure at 0x7f66a17cd8d0>"
      ]
     },
     "metadata": {},
     "output_type": "display_data"
    }
   ],
   "source": [
    "inp, out, sw = get_sample(1, 8, 20)\n",
    "\n",
    "plt.subplot(131)\n",
    "plt.title('input')\n",
    "plt.imshow(inp[0], cmap='gray')\n",
    "plt.subplot(132)\n",
    "plt.title('desired')\n",
    "plt.imshow(out[0], cmap='gray')\n",
    "plt.subplot(133)\n",
    "plt.title('sample_weight')\n",
    "plt.imshow(sw[0], cmap='gray')\n",
    "\n",
    "# sample_weight marks the points in time that will \n",
    "# be part of the cost function."
   ]
  },
  {
   "cell_type": "code",
   "execution_count": 7,
   "metadata": {
    "collapsed": false
   },
   "outputs": [],
   "source": [
    "# training uses sequences of length 1 to 20. Test uses series of length 100.\n",
    "def test_model(model, file_name, min_size=40,restrict=False):\n",
    "    I, V, sw = get_sample(batch_size=500, n_bits=input_dim, max_size=min_size+1, min_size=min_size)\n",
    "    Y = np.asarray(model.predict(I, batch_size=100) > .5).astype('float64')\n",
    "    acc = (V[:, -min_size:, :] == Y[:, -min_size:, :]).mean() * 100\n",
    "    if restrict:\n",
    "        acc = np.average(V[:, -min_size:, :] == Y[:, -min_size:, :],\n",
    "                          weights=np.repeat(sw[:,-min_size:,:],8,axis=2)) * 100\n",
    "    show_pattern(Y[0], V[0], sw[0], file_name)\n",
    "\n",
    "    return acc"
   ]
  },
  {
   "cell_type": "code",
   "execution_count": 8,
   "metadata": {
    "collapsed": false,
    "scrolled": true
   },
   "outputs": [
    {
     "name": "stdout",
     "output_type": "stream",
     "text": [
      "STACK\n",
      "   1/4000 [..............................] - ETA: 743s - loss: 0.6927\n",
      "acc: 50.1472222222\n",
      "1001/4000 [======>.......................] - ETA: 554s - loss: 0.5499\n",
      "acc: 69.2888888889\n",
      "2001/4000 [==============>...............] - ETA: 368s - loss: 0.4431\n",
      "acc: 75.0402777778\n",
      "3001/4000 [=====================>........] - ETA: 185s - loss: 0.3769\n",
      "acc: 79.4611111111\n",
      "4000/4000 [==============================] - 744s - loss: 0.3312   \n",
      "QUEUE\n",
      "   1/4000 [..............................] - ETA: 735s - loss: 0.6934\n",
      "acc: 50.4680555556\n",
      "1001/4000 [======>.......................] - ETA: 559s - loss: 0.1945\n",
      "acc: 99.8972222222\n",
      "2001/4000 [==============>...............] - ETA: 371s - loss: 0.1068\n",
      "acc: 99.9625\n",
      "3001/4000 [=====================>........] - ETA: 184s - loss: 0.0726\n",
      "acc: 99.9958333333\n",
      "4000/4000 [==============================] - 738s - loss: 0.0554   \n",
      "LSTM\n",
      "   1/4000 [..............................] - ETA: 430s - loss: 0.6977\n",
      "acc: 50.4444444444\n",
      "1001/4000 [======>.......................] - ETA: 311s - loss: 0.5442\n",
      "acc: 69.2986111111\n",
      "2001/4000 [==============>...............] - ETA: 212s - loss: 0.4176\n",
      "acc: 77.4333333333\n",
      "3001/4000 [=====================>........] - ETA: 105s - loss: 0.3329\n",
      "acc: 81.2680555556\n",
      "4000/4000 [==============================] - 422s - loss: 0.2791   \n",
      "NTM\n",
      "   1/4000 [..............................] - ETA: 1424s - loss: 0.6948\n",
      "acc: 49.6111111111\n",
      "1001/4000 [======>.......................] - ETA: 904s - loss: 0.6259\n",
      "acc: 63.2805555556\n",
      "2001/4000 [==============>...............] - ETA: 604s - loss: 0.5907\n",
      "acc: 64.6013888889\n",
      "3001/4000 [=====================>........] - ETA: 342s - loss: 0.5615\n",
      "acc: 65.4805555556\n",
      "4000/4000 [==============================] - 1416s - loss: 0.5362  \n"
     ]
    }
   ],
   "source": [
    "results = {}\n",
    "for model in [\"STACK\",\"QUEUE\",\"LSTM\",\"NTM\"]:\n",
    "    print(model)\n",
    "    trained = load_model(model)\n",
    "    nb_epoch = 4000\n",
    "    progbar = generic_utils.Progbar(nb_epoch)\n",
    "    ACC = []\n",
    "    LOSS = []\n",
    "    for e in range(nb_epoch):\n",
    "        I, V, sw = get_sample(n_bits=input_dim, max_size=19, min_size=1, batch_size=100)\n",
    "        #print(I.shape)\n",
    "        \n",
    "        #print(V.shape)\n",
    "        loss = trained.train_on_batch(I, V, sample_weight=sw[:, :, 0])[0]\n",
    "        # loss = trained.fit(I, V, sample_weight=sw[:, :, 0], nb_epoch=1, batch_size=100, verbose=0).totals['loss']\n",
    "\n",
    "        progbar.add(1, values=[(\"loss\", loss)])\n",
    "       \n",
    "\n",
    "        if e % 100 == 0:\n",
    "            \n",
    "            acc = test_model(trained, 'ntm_test.png',min_size=19,restrict=True)\n",
    "            l = []\n",
    "            if e %1000 == 0:\n",
    "                print(\"\")\n",
    "                for a in [acc,]:\n",
    "                    print(\"acc: {}\".format(a))\n",
    "            for a in [acc,]:\n",
    "                l.append(a)\n",
    "            ACC.append(l)\n",
    "            LOSS.append(loss)\n",
    "            \n",
    "    results[model] = [LOSS,ACC]\n",
    "    \n"
   ]
  },
  {
   "cell_type": "code",
   "execution_count": 13,
   "metadata": {
    "collapsed": false
   },
   "outputs": [
    {
     "name": "stdout",
     "output_type": "stream",
     "text": [
      "NTM\n",
      "   1/4000 [..............................] - ETA: 1359s - loss: 0.6940\n",
      "acc: 50.025\n",
      "1001/4000 [======>.......................] - ETA: 917s - loss: 0.6275\n",
      "acc: 62.9777777778\n",
      "2001/4000 [==============>...............] - ETA: 614s - loss: 0.4177\n",
      "acc: 99.6333333333\n",
      "3001/4000 [=====================>........] - ETA: 305s - loss: 0.2868\n",
      "acc: 99.9694444444\n",
      "4000/4000 [==============================] - 1213s - loss: 0.2178  \n"
     ]
    }
   ],
   "source": [
    "for model in [\"NTM\"]:\n",
    "    print(model)\n",
    "    trained = load_model(model)\n",
    "    nb_epoch = 4000\n",
    "    progbar = generic_utils.Progbar(nb_epoch)\n",
    "    ACC = []\n",
    "    LOSS = []\n",
    "    for e in range(nb_epoch):\n",
    "        I, V, sw = get_sample(n_bits=input_dim, max_size=19, min_size=1, batch_size=100)\n",
    "        #print(I.shape)\n",
    "        \n",
    "        #print(V.shape)\n",
    "        loss = trained.train_on_batch(I, V, sample_weight=sw[:, :, 0])[0]\n",
    "        # loss = trained.fit(I, V, sample_weight=sw[:, :, 0], nb_epoch=1, batch_size=100, verbose=0).totals['loss']\n",
    "\n",
    "        progbar.add(1, values=[(\"loss\", loss)])\n",
    "       \n",
    "\n",
    "        if e % 100 == 0:\n",
    "            \n",
    "            acc = test_model(trained, 'ntm_test.png',min_size=19,restrict=True)\n",
    "            l = []\n",
    "            if e %1000 == 0:\n",
    "                print(\"\")\n",
    "                for a in [acc,]:\n",
    "                    print(\"acc: {}\".format(a))\n",
    "            for a in [acc,]:\n",
    "                l.append(a)\n",
    "            ACC.append(l)\n",
    "            LOSS.append(loss)\n",
    "            \n",
    "    results[model] = [LOSS,ACC]\n",
    "    "
   ]
  },
  {
   "cell_type": "markdown",
   "metadata": {},
   "source": [
    "##Comment on the results\n",
    "There is a jump from classical learning curve to a 100 % of accuracy for the NTM and the queue. (cf next picture).\n",
    "\n",
    "The time at which it takes place is a little bit random, and for some weight initialisation\n",
    "it takes more time"
   ]
  },
  {
   "cell_type": "code",
   "execution_count": 15,
   "metadata": {
    "collapsed": false
   },
   "outputs": [
    {
     "data": {
      "text/plain": [
       "<matplotlib.legend.Legend at 0x7f65ef880310>"
      ]
     },
     "execution_count": 15,
     "metadata": {},
     "output_type": "execute_result"
    },
    {
     "data": {
      "image/png": "[encoded data removed]",
      "text/plain": [
       "<matplotlib.figure.Figure at 0x7f65ef880790>"
      ]
     },
     "metadata": {},
     "output_type": "display_data"
    }
   ],
   "source": [
    "for model in [\"LSTM\",\"STACK\",\"QUEUE\",\"NTM\"]:\n",
    "    plot(results[model][1],label=model)\n",
    "legend(loc=\"best\")"
   ]
  },
  {
   "cell_type": "markdown",
   "metadata": {},
   "source": [
    "# Comparison python theano implementation of stack"
   ]
  },
  {
   "cell_type": "code",
   "execution_count": null,
   "metadata": {
    "collapsed": true
   },
   "outputs": [],
   "source": [
    "def python_stack(V_tm1,s_tm1,d,u,v,time):\n",
    "    V_t = V_tm1\n",
    "    V_t[time] = v\n",
    "    #equation 2:\n",
    "    s_t = np.zeros_like(s_tm1)\n",
    "    for i  in range(0,time):\n",
    "        s_t[i] = max([0, s_tm1[i]-max([0,u-sum([s_tm1[j] for j in range(1+i,time)])])])\n",
    "    s_t[time] = d\n",
    "    \n",
    "    m = np.zeros_like(s_tm1)\n",
    "    for i  in range(0,time+1):\n",
    "        m[i] = np.sum(min([s_t[i],max([0,1-sum([s_t[j] for j in range(i+1,time+1)])])]))\n",
    "        \n",
    "    r_t = np.sum(m[:time+1,newaxis]*V_t[:time+1],axis=0)\n",
    "        \n",
    "    return V_t,s_t,r_t\n",
    "        "
   ]
  },
  {
   "cell_type": "code",
   "execution_count": null,
   "metadata": {
    "collapsed": false
   },
   "outputs": [],
   "source": [
    "from seya.layers.stack import _update_neural_stack\n",
    "V_tm1 = T.tensor3(\"s_tm1\")   \n",
    "s_tm1 = T.matrix(\"s_tm1\")\n",
    "d = T.vector(\"d_t\")\n",
    "u = T.vector(\"u_t\")\n",
    "v = T.matrix(\"v_t\")\n",
    "time = K.zeros((1),dtype=np.int32)[0]\n",
    "\n",
    "V_t,s_t,r_t = _update_neural_stack(\"test\",V_tm1,s_tm1,d,u,v,time,stack=True)\n",
    "\n",
    "    \n",
    "theano_stack = theano.function([V_tm1,s_tm1,d,u,v,time],[V_t,s_t,r_t],allow_input_downcast=True)\n"
   ]
  },
  {
   "cell_type": "code",
   "execution_count": null,
   "metadata": {
    "collapsed": false
   },
   "outputs": [],
   "source": [
    "\n",
    "test_cases = [[[0.0,0.0,0.0,0.0],0.8,0.,1],\n",
    "              [[0.0,0.8,0.0,0.0],0.5,0.1,2],\n",
    "              [[0.0,0.7,0.5,0.0],0.9,0.9,3]]\n",
    "def create_test_case(startt=1,N=10):\n",
    "    maxt = 10\n",
    "    size_m = 4\n",
    "    for i in range(N):\n",
    "        time = np.random.randint(1,maxt-1)\n",
    "        V_tm1 = np.zeros((maxt,size_m))\n",
    "        V_tm1[:time]= np.random.random((time,size_m))\n",
    "        v = np.random.random((size_m))\n",
    "        s_tm1 = np.zeros((maxt))\n",
    "        s_tm1[:time]= np.random.random((time))\n",
    "\n",
    "        d = np.random.random()\n",
    "        u = np.random.random()\n",
    "        \n",
    "        \n",
    "        if i < len(test_cases):\n",
    "            s_tm1,d,u,time = test_cases[i]\n",
    "        \n",
    "        V1,S1,r1 = python_stack(V_tm1,s_tm1,d,u,v,time)\n",
    "        \n",
    "        def dou(a):\n",
    "            return np.array([a,a])\n",
    "        V2,S2,r2 = theano_stack(dou(V_tm1),dou(s_tm1),\n",
    "                                dou(d),dou(u),dou(v),time)\n",
    "        \n",
    "        \n",
    "        print(i,time,np.sum(V1-V2[0]),np.sum(S1-S2[0]),np.sum(r1-r2[0]))\n",
    "        #print (S1)\n",
    "        #print (S2[0])\n",
    "create_test_case(1,10)"
   ]
  }
 ],
 "metadata": {
  "kernelspec": {
   "display_name": "Python 2",
   "language": "python",
   "name": "python2"
  },
  "language_info": {
   "codemirror_mode": {
    "name": "ipython",
    "version": 2
   },
   "file_extension": ".py",
   "mimetype": "text/x-python",
   "name": "python",
   "nbconvert_exporter": "python",
   "pygments_lexer": "ipython2",
   "version": "2.7.9"
  }
 },
 "nbformat": 4,
 "nbformat_minor": 0
}
