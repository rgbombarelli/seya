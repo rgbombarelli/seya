{
 "cells": [
  {
   "cell_type": "markdown",
   "metadata": {},
   "source": [
    "# Neural Turing Machine with Keras\n",
    "\n",
    "Definitions:  \n",
    "$h$ controller RNN state. $M$ memory (a matrix). $r$ and $w$ read and write vectors, output of a softmax, thus a probability distribution, they are used to do weighted averaging (it seems that differentiable attention is the new name for that) over the rows of $M$. The rows of $M$ are the different \"memory locations\".\n",
    "\n",
    "Internal algorithm:  \n",
    "1) Using $h_{t-1}$, update the reading vector $r_t = f_r(r_{t-1}, h_{t-1})$  \n",
    "2) Read from memory $m_t = read(r_t, M_{t-1})$  \n",
    "3) Using the input and the read vector, update the RNN controller state $RNN$: $h_t = RNN(x_t, m_t, h_{t-1})$  \n",
    "4) Using $h_t$, update the writing vector $w_t = f_w(w_{tm1}, h_t)$  \n",
    "5) Write to memory $M_t = write(M_{t-1}, h_t, w_t)$.  \n",
    "\n",
    "For details see [Graves et. al.](http://arxiv.org/pdf/1410.5401v2.pdf). Next we are going to run the Copy experiment in Keras using ``#ThankYouTheano`` backend.\n",
    "\n",
    "\n",
    "###Note  \n",
    "current version:  \n",
    "`pip install https://github.com/fchollet/keras.git@7a3122c1546da`  \n",
    "`pip install https://github.com/edersantana/seya.git@26d0cef422f0`  \n",
    "\n",
    "\n",
    "v.1:  \n",
    "`pip install https://github.com/fchollet/keras.git@b5f65df`  \n",
    "`pip install https://github.com/edersantana/seya.git@b044283`  \n",
    "\n",
    "\n",
    "# Copy Problem"
   ]
  },
  {
   "cell_type": "code",
   "execution_count": 1,
   "metadata": {
    "collapsed": false
   },
   "outputs": [
    {
     "name": "stderr",
     "output_type": "stream",
     "text": [
      "Using gpu device 0: GeForce GTX 660 (CNMeM is disabled, CuDNN not available)\n",
      "Using Theano backend.\n",
      "/usr/local/lib/python2.7/dist-packages/theano/tensor/signal/downsample.py:5: UserWarning: downsample module has been moved to the pool module.\n",
      "  warnings.warn(\"downsample module has been moved to the pool module.\")\n"
     ]
    }
   ],
   "source": [
    "#%matplotlib inline\n",
    "from __future__ import absolute_import\n",
    "from __future__ import print_function\n",
    "import logging\n",
    "import numpy as np\n",
    "np.random.seed(124)\n",
    "import matplotlib.pyplot as plt\n",
    "import cPickle\n",
    "\n",
    "from theano import tensor, function\n",
    "import theano\n",
    "theano.config.mode=\"FAST_COMPILE\"\n",
    "\n",
    "from keras.datasets import mnist\n",
    "from keras.models import Graph, Sequential\n",
    "from keras.layers.core import TimeDistributedDense, Dropout, Activation, Flatten, Masking\n",
    "from keras.layers.recurrent import LSTM\n",
    "from keras.utils import np_utils, generic_utils\n",
    "from keras.optimizers import Adam, SGD\n",
    "from keras import backend as K\n",
    "\n",
    "from seya.layers.ntm import NeuralTuringMachine as NTM\n",
    "from seya.layers.stack import Stack\n",
    "\n",
    "\n",
    "#from seya.models import Sequential  # this is just good old Sequential, from before TensorFlow support\n",
    "\n",
    "#from IPython import display"
   ]
  },
  {
   "cell_type": "code",
   "execution_count": 9,
   "metadata": {
    "collapsed": true
   },
   "outputs": [],
   "source": [
    "batch_size = 100\n",
    "\n",
    "h_dim = 128\n",
    "n_slots = 50\n",
    "m_length = 20\n",
    "input_dim = 8\n",
    "lr = 0.5e-3\n",
    "clipnorm = 10\n",
    "rnn_size= 128"
   ]
  },
  {
   "cell_type": "code",
   "execution_count": 14,
   "metadata": {
    "collapsed": false
   },
   "outputs": [],
   "source": [
    "# Neural Turing Machine\n",
    "\n",
    "def load_model(model):\n",
    "    \n",
    "    if model == \"NTM\":\n",
    "        h_dim=32\n",
    "        ntm = NTM(h_dim, n_slots=n_slots, m_length=m_length, shift_range=3,\n",
    "          inner_rnn='lstm', return_sequences=True, input_dim=input_dim)\n",
    "    \n",
    "    if model == \"QUEUE\":\n",
    "        h_dim=128\n",
    "        ntm = Stack(h_dim, n_slots=n_slots, m_length=m_length,\n",
    "            inner_rnn='lstm', rnn_size=rnn_size,return_sequences=True, input_dim=input_dim,stack=False)\n",
    "        \n",
    "    if model == \"STACK\":\n",
    "        h_dim = 128\n",
    "        ntm = Stack(h_dim, n_slots=n_slots, m_length=m_length,\n",
    "                  inner_rnn='lstm', rnn_size=rnn_size,return_sequences=True, input_dim=input_dim,stack=True)\n",
    "\n",
    "    if model == \"LSTM\":\n",
    "        h_dim=256\n",
    "        ntm = LSTM(h_dim,return_sequences = True,input_dim = input_dim)\n",
    "        \n",
    "    model = Sequential()\n",
    "    # model.add(Masking(input_shape=(None, input_dim)))\n",
    "    model.add(ntm)\n",
    "    model.add(TimeDistributedDense(input_dim))\n",
    "    model.add(Activation('sigmoid'))\n",
    "    \n",
    "    sgd = Adam(lr=lr, clipnorm=clipnorm)\n",
    "    model.compile(loss='binary_crossentropy', optimizer=sgd, sample_weight_mode=\"temporal\")\n",
    "    \n",
    "    return model"
   ]
  },
  {
   "cell_type": "markdown",
   "metadata": {},
   "source": [
    "# Dataset"
   ]
  },
  {
   "cell_type": "code",
   "execution_count": 4,
   "metadata": {
    "collapsed": false
   },
   "outputs": [],
   "source": [
    "def get_sample(batch_size=128, n_bits=8, max_size=20, min_size=1):\n",
    "    # generate samples with random length\n",
    "    inp = np.zeros((batch_size, 2*max_size-1, n_bits))\n",
    "    out = np.zeros((batch_size, 2*max_size-1, n_bits))\n",
    "    sw = np.zeros((batch_size, 2*max_size-1, 1))\n",
    "    for i in range(batch_size):\n",
    "        t = np.random.randint(low=min_size, high=max_size)\n",
    "        x = np.random.uniform(size=(t, n_bits)) > .5\n",
    "        for j,f in enumerate(x.sum(axis=-1)): # remove fake flags\n",
    "            if f>=n_bits:\n",
    "                x[j, :] = 0.\n",
    "        del_flag = np.ones((1, n_bits))\n",
    "        inp[i, :t+1] = np.concatenate([x, del_flag], axis=0)\n",
    "        out[i, t:(2*t)] = x\n",
    "        #sw[i, t:(2*t)] = 1\n",
    "        sw[i, t:(2*t)+2] = 1\n",
    "    return inp, out, sw"
   ]
  },
  {
   "cell_type": "code",
   "execution_count": 5,
   "metadata": {
    "collapsed": false
   },
   "outputs": [],
   "source": [
    "def show_pattern(inp, out, sw, file_name='pattern2.png'):\n",
    "    plt.figure(figsize=(10, 10))\n",
    "    plt.subplot(131)\n",
    "    plt.imshow(inp>.5)\n",
    "    plt.subplot(132)\n",
    "    plt.imshow(out>.5)\n",
    "    plt.subplot(133)\n",
    "    plt.imshow(sw[:, :1]>.5)\n",
    "    plt.savefig(file_name)\n",
    "    plt.close()\n",
    "\n",
    "inp, out, sw = get_sample()\n",
    "show_pattern(inp[0], out[0], sw[0])"
   ]
  },
  {
   "cell_type": "code",
   "execution_count": 6,
   "metadata": {
    "collapsed": false
   },
   "outputs": [
    {
     "data": {
      "text/plain": [
       "<matplotlib.image.AxesImage at 0x7fc104499d90>"
      ]
     },
     "execution_count": 6,
     "metadata": {},
     "output_type": "execute_result"
    },
    {
     "data": {
      "image/png": "[encoded data removed]",
      "text/plain": [
       "<matplotlib.figure.Figure at 0x7fc104591390>"
      ]
     },
     "metadata": {},
     "output_type": "display_data"
    }
   ],
   "source": [
    "inp, out, sw = get_sample(1, 8, 20)\n",
    "\n",
    "plt.subplot(131)\n",
    "plt.title('input')\n",
    "plt.imshow(inp[0], cmap='gray')\n",
    "plt.subplot(132)\n",
    "plt.title('desired')\n",
    "plt.imshow(out[0], cmap='gray')\n",
    "plt.subplot(133)\n",
    "plt.title('sample_weight')\n",
    "plt.imshow(sw[0], cmap='gray')\n",
    "\n",
    "# sample_weight marks the points in time that will \n",
    "# be part of the cost function."
   ]
  },
  {
   "cell_type": "code",
   "execution_count": 7,
   "metadata": {
    "collapsed": false
   },
   "outputs": [],
   "source": [
    "# training uses sequences of length 1 to 20. Test uses series of length 100.\n",
    "def test_model(model, file_name, min_size=40):\n",
    "    I, V, sw = get_sample(batch_size=500, n_bits=input_dim, max_size=min_size+1, min_size=min_size)\n",
    "    Y = np.asarray(model.predict(I, batch_size=100) > .5).astype('float64')\n",
    "    acc = (V[:, -min_size:, :] == Y[:, -min_size:, :]).mean() * 100\n",
    "    show_pattern(Y[0], V[0], sw[0], file_name)\n",
    "\n",
    "    return acc"
   ]
  },
  {
   "cell_type": "code",
   "execution_count": 17,
   "metadata": {
    "collapsed": false,
    "scrolled": true
   },
   "outputs": [
    {
     "name": "stdout",
     "output_type": "stream",
     "text": [
      "STACK\n",
      "   1/8000 [..............................] - ETA: 1511s - loss: 0.6935\n",
      "acc: 51.4171052632\n",
      "1001/8000 [==>...........................] - ETA: 1355s - loss: 0.5635\n",
      "acc: 62.8578947368\n",
      "2001/8000 [======>.......................] - ETA: 1159s - loss: 0.5360\n",
      "acc: 64.9552631579\n",
      "3001/8000 [==========>...................] - ETA: 967s - loss: 0.5191\n",
      "acc: 66.2907894737\n",
      "4001/8000 [==============>...............] - ETA: 775s - loss: 0.5052\n",
      "acc: 67.2171052632\n",
      "5001/8000 [=================>............] - ETA: 583s - loss: 0.4923\n",
      "acc: 67.9197368421\n",
      "6001/8000 [=====================>........] - ETA: 388s - loss: 0.4796\n",
      "acc: 68.2934210526\n",
      "7001/8000 [=========================>....] - ETA: 194s - loss: 0.4667\n",
      "acc: 65.1513157895\n",
      "8000/8000 [==============================] - 1558s - loss: 0.4535  \n",
      "QUEUE\n",
      "   1/8000 [..............................] - ETA: 1475s - loss: 0.6930\n",
      "acc: 52.6947368421\n",
      "1001/8000 [==>...........................] - ETA: 1318s - loss: 0.4984\n",
      "acc: 89.2776315789\n",
      "2001/8000 [======>.......................] - ETA: 1133s - loss: 0.3089\n",
      "acc: 99.8\n",
      "3001/8000 [==========>...................] - ETA: 944s - loss: 0.2256\n",
      "acc: 99.9723684211\n",
      "4001/8000 [==============>...............] - ETA: 757s - loss: 0.1808\n",
      "acc: 99.8934210526\n",
      "5001/8000 [=================>............] - ETA: 563s - loss: 0.1505\n",
      "acc: 99.9144736842\n",
      "6001/8000 [=====================>........] - ETA: 374s - loss: 0.1273\n",
      "acc: 99.9618421053\n",
      "7001/8000 [=========================>....] - ETA: 187s - loss: 0.1096\n",
      "acc: 99.9842105263\n",
      "8000/8000 [==============================] - 1496s - loss: 0.0961  \n",
      "LSTM\n",
      "   1/8000 [..............................] - ETA: 903s - loss: 0.6953\n",
      "acc: 53.1144736842\n",
      "1001/8000 [==>...........................] - ETA: 735s - loss: 0.5482\n",
      "acc: 65.8592105263\n",
      "2001/8000 [======>.......................] - ETA: 627s - loss: 0.5142\n",
      "acc: 68.2723684211\n",
      "3001/8000 [==========>...................] - ETA: 523s - loss: 0.4884\n",
      "acc: 69.8934210526\n",
      "4001/8000 [==============>...............] - ETA: 417s - loss: 0.4653\n",
      "acc: 70.9618421053\n",
      "5001/8000 [=================>............] - ETA: 313s - loss: 0.4426\n",
      "acc: 72.3\n",
      "6001/8000 [=====================>........] - ETA: 208s - loss: 0.4197\n",
      "acc: 74.0513157895\n",
      "7001/8000 [=========================>....] - ETA: 104s - loss: 0.3961\n",
      "acc: 76.5263157895\n",
      "8000/8000 [==============================] - 836s - loss: 0.3725   \n",
      "NTM\n",
      "   1/8000 [..............................] - ETA: 2558s - loss: 0.6941\n",
      "acc: 49.4092105263\n",
      "1001/8000 [==>...........................] - ETA: 1996s - loss: 0.6130\n",
      "acc: 53.9263157895\n",
      "2001/8000 [======>.......................] - ETA: 1732s - loss: 0.5950\n",
      "acc: 56.1144736842\n",
      "3001/8000 [==========>...................] - ETA: 1443s - loss: 0.5858\n",
      "acc: 57.1144736842\n",
      "4001/8000 [==============>...............] - ETA: 1153s - loss: 0.5792\n",
      "acc: 57.9855263158\n",
      "5001/8000 [=================>............] - ETA: 865s - loss: 0.5740\n",
      "acc: 58.9144736842\n",
      "6001/8000 [=====================>........] - ETA: 576s - loss: 0.5697\n",
      "acc: 58.9815789474\n",
      "7001/8000 [=========================>....] - ETA: 287s - loss: 0.5660\n",
      "acc: 59.0171052632\n",
      "8000/8000 [==============================] - 2296s - loss: 0.5628  \n"
     ]
    }
   ],
   "source": [
    "results = {}\n",
    "for model in [\"STACK\",\"QUEUE\",\"LSTM\",\"NTM\"]:\n",
    "    print(model)\n",
    "    trained = load_model(model)\n",
    "    nb_epoch = 8000\n",
    "    progbar = generic_utils.Progbar(nb_epoch)\n",
    "    ACC = []\n",
    "    LOSS = []\n",
    "    for e in range(nb_epoch):\n",
    "        I, V, sw = get_sample(n_bits=input_dim, max_size=19, min_size=1, batch_size=100)\n",
    "        #print(I.shape)\n",
    "        \n",
    "        #print(V.shape)\n",
    "        loss = trained.train_on_batch(I, V, sample_weight=sw[:, :, 0])[0]\n",
    "        # loss = trained.fit(I, V, sample_weight=sw[:, :, 0], nb_epoch=1, batch_size=100, verbose=0).totals['loss']\n",
    "\n",
    "        progbar.add(1, values=[(\"loss\", loss)])\n",
    "       \n",
    "\n",
    "        if e % 100 == 0:\n",
    "            \n",
    "            acc = test_model(trained, 'ntm_test.png',min_size=19)\n",
    "            l = []\n",
    "            if e %1000 == 0:\n",
    "                print(\"\")\n",
    "                for a in [acc,]:\n",
    "                    print(\"acc: {}\".format(a))\n",
    "            for a in [acc,]:\n",
    "                l.append(a)\n",
    "            ACC.append(l)\n",
    "            LOSS.append(loss)\n",
    "            \n",
    "    results[model] = [LOSS,ACC]\n",
    "    \n"
   ]
  },
  {
   "cell_type": "code",
   "execution_count": 19,
   "metadata": {
    "collapsed": false
   },
   "outputs": [
    {
     "data": {
      "image/png": "[encoded data removed]",
      "text/plain": [
       "<matplotlib.figure.Figure at 0x7fc06933fa10>"
      ]
     },
     "metadata": {},
     "output_type": "display_data"
    }
   ],
   "source": [
    "for model in [\"LSTM\",\"STACK\",\"QUEUE\",\"NTM\"]:\n",
    "    plot(results[model][1],label=model)"
   ]
  },
  {
   "cell_type": "markdown",
   "metadata": {
    "collapsed": true
   },
   "source": [
    "# Visualization"
   ]
  },
  {
   "cell_type": "code",
   "execution_count": 15,
   "metadata": {
    "collapsed": false
   },
   "outputs": [
    {
     "data": {
      "text/plain": [
       "\"\\nGpuElemwise. Input dimension mis-match. Input 1 (indices start at 0) has shape[1] == 1, but the output's size on that axis is 20.\\nApply node that caused the error: GpuElemwise{Composite{tanh((i0 + i1))}}[(0, 0)](GpuDot22.0, <CudaNdarrayType(float32, row)>)\\nToposort index: 45\\n\""
      ]
     },
     "execution_count": 15,
     "metadata": {},
     "output_type": "execute_result"
    }
   ],
   "source": [
    "\"\"\"\n",
    "GpuElemwise. Input dimension mis-match. Input 1 (indices start at 0) has shape[1] == 1, but the output's size on that axis is 20.\n",
    "Apply node that caused the error: GpuElemwise{Composite{tanh((i0 + i1))}}[(0, 0)](GpuDot22.0, <CudaNdarrayType(float32, row)>)\n",
    "Toposort index: 45\n",
    "\"\"\""
   ]
  },
  {
   "cell_type": "code",
   "execution_count": null,
   "metadata": {
    "collapsed": false
   },
   "outputs": [],
   "source": [
    "X = model.get_input()\n",
    "Y = ntm.get_full_output()[0:3] # (memory over time, read_vectors, write_vectors)\n",
    "F = function([X], Y, allow_input_downcast=True)"
   ]
  },
  {
   "cell_type": "code",
   "execution_count": null,
   "metadata": {
    "collapsed": false
   },
   "outputs": [],
   "source": [
    "inp, out, sw = get_sample(1, input_dim, 31, 30)"
   ]
  },
  {
   "cell_type": "code",
   "execution_count": null,
   "metadata": {
    "collapsed": false
   },
   "outputs": [],
   "source": [
    "mem, read, write,  = F(inp.astype('float32'))\n",
    "Y = model.predict(inp)"
   ]
  },
  {
   "cell_type": "code",
   "execution_count": null,
   "metadata": {
    "collapsed": false
   },
   "outputs": [],
   "source": [
    "mem = mem.transpose(1, 0, 2).reshape((1, -1, n_slots, m_length))\n",
    "mem.shape"
   ]
  },
  {
   "cell_type": "code",
   "execution_count": null,
   "metadata": {
    "collapsed": false
   },
   "outputs": [],
   "source": [
    "write = write.transpose(1, 0, 2)\n",
    "read = read.transpose(1, 0, 2)"
   ]
  },
  {
   "cell_type": "code",
   "execution_count": null,
   "metadata": {
    "collapsed": false
   },
   "outputs": [],
   "source": [
    "plt.figure(figsize=(15, 12))\n",
    "\n",
    "plt.subplot(221)\n",
    "plt.imshow(write[0], cmap='gray')\n",
    "plt.xlabel('memory location')\n",
    "plt.ylabel('time')\n",
    "plt.title('write')\n",
    "\n",
    "plt.subplot(222)\n",
    "plt.imshow(read[0], cmap='gray')\n",
    "plt.title('read')\n",
    "\n",
    "plt.subplot(223)\n",
    "plt.title('desired')\n",
    "plt.imshow(out[0], cmap='gray')\n",
    "\n",
    "plt.subplot(224)\n",
    "plt.imshow(Y[0]>.5, cmap='gray')\n",
    "plt.title('output')\n",
    "\n",
    "plt.figure(figsize=(15, 10))\n",
    "plt.subplot(325)\n",
    "plt.ylabel('time')\n",
    "plt.xlabel('location')\n",
    "plt.title('memory evolving in time (avg value per location)')\n",
    "plt.imshow(mem[0].mean(axis=-1), cmap='gray')"
   ]
  },
  {
   "cell_type": "markdown",
   "metadata": {},
   "source": [
    "# Comparison python theano implementation of stack"
   ]
  },
  {
   "cell_type": "code",
   "execution_count": null,
   "metadata": {
    "collapsed": true
   },
   "outputs": [],
   "source": [
    "def python_stack(V_tm1,s_tm1,d,u,v,time):\n",
    "    V_t = V_tm1\n",
    "    V_t[time] = v\n",
    "    #equation 2:\n",
    "    s_t = np.zeros_like(s_tm1)\n",
    "    for i  in range(0,time):\n",
    "        s_t[i] = max([0, s_tm1[i]-max([0,u-sum([s_tm1[j] for j in range(1+i,time)])])])\n",
    "    s_t[time] = d\n",
    "    \n",
    "    m = np.zeros_like(s_tm1)\n",
    "    for i  in range(0,time+1):\n",
    "        m[i] = np.sum(min([s_t[i],max([0,1-sum([s_t[j] for j in range(i+1,time+1)])])]))\n",
    "        \n",
    "    r_t = np.sum(m[:time+1,newaxis]*V_t[:time+1],axis=0)\n",
    "        \n",
    "    return V_t,s_t,r_t\n",
    "        "
   ]
  },
  {
   "cell_type": "code",
   "execution_count": null,
   "metadata": {
    "collapsed": false
   },
   "outputs": [],
   "source": [
    "from seya.layers.stack import _update_neural_stack\n",
    "V_tm1 = T.tensor3(\"s_tm1\")   \n",
    "s_tm1 = T.matrix(\"s_tm1\")\n",
    "d = T.vector(\"d_t\")\n",
    "u = T.vector(\"u_t\")\n",
    "v = T.matrix(\"v_t\")\n",
    "time = K.zeros((1),dtype=np.int32)[0]\n",
    "\n",
    "V_t,s_t,r_t = _update_neural_stack(\"test\",V_tm1,s_tm1,d,u,v,time,stack=True)\n",
    "\n",
    "    \n",
    "theano_stack = theano.function([V_tm1,s_tm1,d,u,v,time],[V_t,s_t,r_t],allow_input_downcast=True)\n"
   ]
  },
  {
   "cell_type": "code",
   "execution_count": null,
   "metadata": {
    "collapsed": false
   },
   "outputs": [],
   "source": [
    "\n",
    "test_cases = [[[0.0,0.0,0.0,0.0],0.8,0.,1],\n",
    "              [[0.0,0.8,0.0,0.0],0.5,0.1,2],\n",
    "              [[0.0,0.7,0.5,0.0],0.9,0.9,3]]\n",
    "def create_test_case(startt=1,N=10):\n",
    "    maxt = 10\n",
    "    size_m = 4\n",
    "    for i in range(N):\n",
    "        time = np.random.randint(1,maxt-1)\n",
    "        V_tm1 = np.zeros((maxt,size_m))\n",
    "        V_tm1[:time]= np.random.random((time,size_m))\n",
    "        v = np.random.random((size_m))\n",
    "        s_tm1 = np.zeros((maxt))\n",
    "        s_tm1[:time]= np.random.random((time))\n",
    "\n",
    "        d = np.random.random()\n",
    "        u = np.random.random()\n",
    "        \n",
    "        \n",
    "        if i < len(test_cases):\n",
    "            s_tm1,d,u,time = test_cases[i]\n",
    "        \n",
    "        V1,S1,r1 = python_stack(V_tm1,s_tm1,d,u,v,time)\n",
    "        \n",
    "        def dou(a):\n",
    "            return np.array([a,a])\n",
    "        V2,S2,r2 = theano_stack(dou(V_tm1),dou(s_tm1),\n",
    "                                dou(d),dou(u),dou(v),time)\n",
    "        \n",
    "        \n",
    "        print(i,time,np.sum(V1-V2[0]),np.sum(S1-S2[0]),np.sum(r1-r2[0]))\n",
    "        #print (S1)\n",
    "        #print (S2[0])\n",
    "create_test_case(1,10)"
   ]
  }
 ],
 "metadata": {
  "kernelspec": {
   "display_name": "Python 2",
   "language": "python",
   "name": "python2"
  },
  "language_info": {
   "codemirror_mode": {
    "name": "ipython",
    "version": 2
   },
   "file_extension": ".py",
   "mimetype": "text/x-python",
   "name": "python",
   "nbconvert_exporter": "python",
   "pygments_lexer": "ipython2",
   "version": "2.7.9"
  }
 },
 "nbformat": 4,
 "nbformat_minor": 0
}
